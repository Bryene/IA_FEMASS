{
  "cells": [
    {
      "cell_type": "markdown",
      "id": "78966de0-46a6-40e3-89d9-094dfc097873",
      "metadata": {
        "id": "78966de0-46a6-40e3-89d9-094dfc097873"
      },
      "source": [
        "# Teoria e Prática 1: Introdução à Aprendizagem de Máquina"
      ]
    },
    {
      "cell_type": "markdown",
      "id": "2cc259f9-f81f-4c1f-b254-be1adcb36329",
      "metadata": {
        "id": "2cc259f9-f81f-4c1f-b254-be1adcb36329"
      },
      "source": [
        "No exemplo apresentado, o autor utiliza um arquivo de dados chamado \"lifesat.csv\" para demonstrar o processo de treinamento de um modelo de regressão linear simples. Este conjunto de dados inclui informações sobre o índice de satisfação de vida em diversos países, juntamente com algumas variáveis que podem ser utilizadas para prever esse índice. Para começar, o autor carrega os dados e separa a variável que se deseja prever, ou seja, o índice de satisfação de vida, das variáveis que serão utilizadas como entrada para o modelo:"
      ]
    },
    {
      "cell_type": "code",
      "execution_count": 95,
      "id": "0be70fba-3f1e-475e-a4bb-6d178bba5570",
      "metadata": {
        "collapsed": true,
        "jupyter": {
          "outputs_hidden": true
        },
        "trusted": true,
        "id": "0be70fba-3f1e-475e-a4bb-6d178bba5570"
      },
      "outputs": [],
      "source": [
        "'''código retirado do livro arquivo para base de explicação'''\n",
        "import pandas as pd\n",
        "import numpy as np\n",
        "import matplotlib.pyplot as plt\n",
        "from sklearn.linear_model import LinearRegression\n",
        "\n",
        "# conjunto de dados DataFrame do GitHub\n",
        "data_root = \"https://github.com/ageron/data/raw/main/\"\n",
        "lifesat = pd.read_csv(data_root + \"lifesat/lifesat.csv\")  # Lê o arquivo CSV e cria um DataFrame chamado \"lifesat\"\n",
        "\n",
        "# Separa a variável de destino (y) das variáveis de entrada (X)\n",
        "\n",
        "# Variável de entrada (X): GDP per capita (USD) representa o Produto Interno Bruto per capita em dólares.\n",
        "X = lifesat[[\"GDP per capita (USD)\"]].values\n",
        "\n",
        "# Variável de destino (y): Life satisfaction representa a satisfação com a vida.\n",
        "y = lifesat[[\"Life satisfaction\"]].values\n"
      ]
    },
    {
      "cell_type": "markdown",
      "id": "517571e5-6e60-4e0b-af1e-08795fdebd6b",
      "metadata": {
        "id": "517571e5-6e60-4e0b-af1e-08795fdebd6b"
      },
      "source": [
        "Em seguida, é exibido os dados em um gráfico de dispersão para visualizar a relação entre as variáveis:"
      ]
    },
    {
      "cell_type": "code",
      "execution_count": 96,
      "id": "2aa5a8d3-41f1-4d2a-b00d-3d1f6fb4f005",
      "metadata": {
        "collapsed": true,
        "jupyter": {
          "outputs_hidden": true
        },
        "trusted": true,
        "id": "2aa5a8d3-41f1-4d2a-b00d-3d1f6fb4f005",
        "outputId": "fba829ec-ee53-4b63-92e4-53ce70ea290a",
        "colab": {
          "base_uri": "https://localhost:8080/",
          "height": 455
        }
      },
      "outputs": [
        {
          "output_type": "display_data",
          "data": {
            "text/plain": [
              "<Figure size 640x480 with 1 Axes>"
            ],
            "image/png": "[encoded data removed]"
          },
          "metadata": {}
        }
      ],
      "source": [
        "# kind='scatter': Indica que queremos criar um gráfico de dispersão.\n",
        "# grid=True: Adiciona uma grade ao gráfico para melhorar a legibilidade.\n",
        "# x=\"GDP per capita (USD)\": Define a variável no eixo x como \"GDP per capita (USD)\".\n",
        "# y=\"Life satisfaction\": Define a variável no eixo y como \"Life satisfaction\".\n",
        "lifesat.plot(kind='scatter', grid=True, x=\"GDP per capita (USD)\", y=\"Life satisfaction\")\n",
        "\n",
        "# Define os limites dos eixos x e y do gráfico.\n",
        "# O eixo x vai de 23.500 a 62.500, e o eixo y vai de 4 a 9.\n",
        "plt.axis([23_500, 62_500, 4, 9])\n",
        "\n",
        "# Mostra o gráfico gerado na tela.\n",
        "plt.show()\n"
      ]
    },
    {
      "cell_type": "markdown",
      "id": "2b109b4f-b6fd-4cec-939a-f7701efa4653",
      "metadata": {
        "id": "2b109b4f-b6fd-4cec-939a-f7701efa4653"
      },
      "source": [
        "Pode-se observar que há uma relação positiva entre o índice de satisfação de vida e o PIB per capita dos países. Em outras palavras, quanto maior o PIB per capita, maior é o índice de satisfação de vida.\n",
        "\n",
        "O autor então treina um modelo de regressão linear simples para prever o índice de satisfação de vida com base no PIB per capita:"
      ]
    },
    {
      "cell_type": "code",
      "execution_count": 97,
      "id": "6329a48e-5d78-4512-8e44-89dfc9c795a4",
      "metadata": {
        "collapsed": true,
        "jupyter": {
          "outputs_hidden": true
        },
        "trusted": true,
        "id": "6329a48e-5d78-4512-8e44-89dfc9c795a4",
        "outputId": "b837fe84-c952-4cc0-c9a3-3bc63183c131",
        "colab": {
          "base_uri": "https://localhost:8080/"
        }
      },
      "outputs": [
        {
          "output_type": "stream",
          "name": "stdout",
          "text": [
            "[[6.30165767]]\n"
          ]
        }
      ],
      "source": [
        "from sklearn.linear_model import LinearRegression\n",
        "# Cria um objeto LinearRegression que será usado para representar o modelo.\n",
        "lin_reg = LinearRegression()\n",
        "\n",
        "# modelo LinearRegression com os dados de entrada (X) e de destino (y).\n",
        "lin_reg.fit(X, y)\n",
        "\n",
        "# Define um novo conjunto de dados de entrada (X_new) para fazer previsões.\n",
        "X_new = [[37_655.2]]\n",
        "\n",
        "# Faz uma previsão com o modelo treinado para o novo conjunto de dados de entrada.\n",
        "predicted_life_satisfaction = lin_reg.predict(X_new)\n",
        "\n",
        "# Imprime a previsão feita pelo modelo para o novo conjunto de dados de entrada.\n",
        "print(predicted_life_satisfaction)\n",
        "\n"
      ]
    },
    {
      "cell_type": "markdown",
      "id": "fb954d17-b0f3-4ed9-a2f5-39c249db8cc3",
      "metadata": {
        "id": "fb954d17-b0f3-4ed9-a2f5-39c249db8cc3"
      },
      "source": [
        "Em seguida, é exibido o modelo em um gráfico para visualizar a linha de regressão:"
      ]
    },
    {
      "cell_type": "code",
      "execution_count": 100,
      "id": "d7e89682-1e86-4c17-859b-5f9f56430075",
      "metadata": {
        "collapsed": true,
        "jupyter": {
          "outputs_hidden": true
        },
        "trusted": true,
        "id": "d7e89682-1e86-4c17-859b-5f9f56430075",
        "colab": {
          "base_uri": "https://localhost:8080/",
          "height": 449
        },
        "outputId": "f0146824-46ae-49df-8145-18fefd55d46e"
      },
      "outputs": [
        {
          "output_type": "display_data",
          "data": {
            "text/plain": [
              "<Figure size 640x480 with 1 Axes>"
            ],
            "image/png": "[encoded data removed]"
          },
          "metadata": {}
        }
      ],
      "source": [
        "# Plota os dados de dispersão para visualizar a relação entre GDP per capita e satisfação com a vida.\n",
        "lifesat.plot(kind='scatter', grid=True,\n",
        "             x=\"GDP per capita (USD)\", y=\"Life satisfaction\")\n",
        "\n",
        "# Plota a linha de regressão linear no gráfico.\n",
        "# A linha representa as previsões feitas pelo modelo LinearRegression.\n",
        "plt.plot(X, lin_reg.predict(X), color='red')\n",
        "\n",
        "# Exibe o gráfico com os dados de dispersão e a linha de regressão.\n",
        "plt.show()\n",
        "\n"
      ]
    },
    {
      "cell_type": "markdown",
      "id": "6c9e7bb5-87ea-4c08-9b0a-c3a27553375e",
      "metadata": {
        "id": "6c9e7bb5-87ea-4c08-9b0a-c3a27553375e"
      },
      "source": [
        "Pode-se observar que a linha de regressão se ajusta aos dados, mostrando que o modelo é capaz de prever o índice de satisfação de vida com base no PIB per capita. O autor também calcula o coeficiente de determinação (R²) do modelo para avaliar seu desempenho:"
      ]
    },
    {
      "cell_type": "code",
      "execution_count": 63,
      "id": "147ba141-18bc-4b18-82c0-4c336e558c7b",
      "metadata": {
        "collapsed": true,
        "jupyter": {
          "outputs_hidden": true
        },
        "trusted": true,
        "id": "147ba141-18bc-4b18-82c0-4c336e558c7b",
        "colab": {
          "base_uri": "https://localhost:8080/"
        },
        "outputId": "f858445e-96af-4b2e-89f6-231b58ef3478"
      },
      "outputs": [
        {
          "output_type": "stream",
          "name": "stdout",
          "text": [
            "Coeficiente de Determinação (R²): 0.7272610933272652\n"
          ]
        }
      ],
      "source": [
        "from sklearn.metrics import r2_score\n",
        "# Calcula o coeficiente de determinação (R²) para avaliar o desempenho do modelo de regressão.\n",
        "# R² mede a proporção da variabilidade na variável de destino que é explicada pelo modelo.\n",
        "# Quanto mais próximo de 1, melhor o modelo se ajusta aos dados.\n",
        "# Os argumentos são as variáveis reais (y) e as previsões feitas pelo modelo (lin_reg.predict(X)).\n",
        "r2 = r2_score(y, lin_reg.predict(X))\n",
        "\n",
        "# Imprime o valor do coeficiente de determinação (R²) como medida de desempenho do modelo.\n",
        "print(\"Coeficiente de Determinação (R²):\", r2)\n",
        "\n"
      ]
    },
    {
      "cell_type": "markdown",
      "id": "2f625f87-6fc5-4355-8a11-8378d2687f98",
      "metadata": {
        "id": "2f625f87-6fc5-4355-8a11-8378d2687f98"
      },
      "source": [
        "O resultado é um R² de cerca de 0,73, o que indica que o modelo explica cerca de 73% da variação nos dados. Isso significa que o modelo é razoavelmente bom em prever o índice de satisfação de vida com base no PIB per capita, mas ainda há alguma variação nos dados que não é explicada pelo modelo.\n",
        "\n",
        "Também é discutido a importância da validação do modelo para evitar o overfitting, ou seja, quando o modelo se ajusta demais aos dados de treinamento e não é capaz de generalizar para novos dados. Para isso, o autor utiliza a técnica de validação cruzada:"
      ]
    },
    {
      "cell_type": "code",
      "execution_count": 64,
      "id": "022fb4cb-df9b-4b75-b24e-18c6be76ab3e",
      "metadata": {
        "collapsed": true,
        "jupyter": {
          "outputs_hidden": true
        },
        "trusted": true,
        "id": "022fb4cb-df9b-4b75-b24e-18c6be76ab3e",
        "colab": {
          "base_uri": "https://localhost:8080/"
        },
        "outputId": "f5566700-a22f-42d5-fa7d-10f749898ad2"
      },
      "outputs": [
        {
          "output_type": "stream",
          "name": "stdout",
          "text": [
            "Scores: [0.38724973 0.44752894 0.46359391 0.35561708 0.63164897]\n",
            "Média: 0.457127725148103\n",
            "Desvio padrão: 0.0956859013613805\n"
          ]
        }
      ],
      "source": [
        "from sklearn.model_selection import cross_val_score\n",
        "#a validação cruzada para avaliar o desempenho do modelo.\n",
        "# 'lin_reg' é o modelo de regressão linear que está sendo avaliado.\n",
        "# 'X' são os dados de entrada.\n",
        "# 'y' são os dados de destino.\n",
        "# 'scoring' define a métrica de avaliação, neste caso, o erro médio quadrático negativo (neg_mean_squared_error).\n",
        "# 'cv' especifica o número de folds (5 no caso) para a validação cruzada.\n",
        "scores = cross_val_score(lin_reg, X, y, scoring='neg_mean_squared_error', cv=5)\n",
        "# Calcula a raiz do erro médio quadrático (RMSE) a partir dos scores negativos.\n",
        "# O RMSE é uma métrica que avalia a qualidade das previsões do modelo.\n",
        "rmse_scores = np.sqrt(-scores)\n",
        "\n",
        "# Define uma função para exibir os resultados da validação cruzada.\n",
        "def display_scores(scores):\n",
        "    print(\"Scores:\", scores)\n",
        "    print(\"Média:\", scores.mean())\n",
        "    print(\"Desvio padrão:\", scores.std())\n",
        "\n",
        "# Chama a função para exibir os scores, a média e o desvio padrão dos RMSE.\n",
        "display_scores(rmse_scores)\n",
        "\n"
      ]
    },
    {
      "cell_type": "markdown",
      "id": "76be476f-afdb-410c-9191-a9b6e8d749a5",
      "metadata": {
        "id": "76be476f-afdb-410c-9191-a9b6e8d749a5"
      },
      "source": [
        "O autor exibe os resultados da validação cruzada, incluindo os scores para cada fold, a média e o desvio padrão dos scores:"
      ]
    },
    {
      "cell_type": "code",
      "execution_count": 75,
      "id": "384febb9-2567-4f6a-be44-1dfb068024d9",
      "metadata": {
        "collapsed": true,
        "jupyter": {
          "outputs_hidden": true
        },
        "trusted": true,
        "id": "384febb9-2567-4f6a-be44-1dfb068024d9",
        "colab": {
          "base_uri": "https://localhost:8080/"
        },
        "outputId": "d9ed17ba-9d6e-4f05-c536-5e542f352f0c"
      },
      "outputs": [
        {
          "output_type": "stream",
          "name": "stdout",
          "text": [
            "Scores: [0.430780223, 0.664751425, 0.58604525, 0.719356149, 2.50211707]\n",
            "Média: 0.9806100233999999\n",
            "Desvio padrão: 0.7669417323032794\n"
          ]
        }
      ],
      "source": [
        "import numpy as np\n",
        "\n",
        "# Importa a biblioteca numpy  para usar suas funções de cálculo.\n",
        "# Uma lista de scores é fornecida como entrada para cálculos estatísticos.\n",
        "scores = [4.30780223e-01, 6.64751425e-01, 5.86045250e-01, 7.19356149e-01, 2.50211707e+00]\n",
        "\n",
        "# Calcula a média dos scores usando a função 'mean' de numpy.\n",
        "mean = np.mean(scores)\n",
        "\n",
        "# Calcula o desvio padrão dos scores usando a função 'std' de numpy.\n",
        "std_dev = np.std(scores)\n",
        "\n",
        "# Exibe os scores, a média e o desvio padrão calculados.\n",
        "print(\"Scores:\", scores)\n",
        "print(\"Média:\", mean)\n",
        "print(\"Desvio padrão:\", std_dev)\n",
        "\n",
        "\n",
        "\n",
        "\n"
      ]
    },
    {
      "cell_type": "markdown",
      "id": "342155fc-6474-4dc2-80ab-25d1dfe3fc5e",
      "metadata": {
        "id": "342155fc-6474-4dc2-80ab-25d1dfe3fc5e"
      },
      "source": [
        "Os resultados indicam que o modelo apresenta um desvio padrão de cerca de 0,77. Isso sugere que o modelo é capaz de fazer previsões razoavelmente precisas sobre o índice de satisfação de vida, mas ainda existe alguma variação nos dados que não é explicada pelo modelo.\n",
        "\n",
        "O livro \"Hands-On Machine Learning with Scikit-Learn, Keras, and TensorFlow\" ilustra como treinar um modelo de regressão linear simples para prever o índice de satisfação de vida com base no PIB per capita dos países. Além disso, o autor aborda a importância da validação do modelo para evitar o overfitting (ajuste excessivo aos dados de treinamento) e avaliar o desempenho do modelo."
      ]
    },
    {
      "cell_type": "markdown",
      "id": "9a7e7ce9-42df-4384-b79e-e5b6cb5855a8",
      "metadata": {
        "id": "9a7e7ce9-42df-4384-b79e-e5b6cb5855a8"
      },
      "source": [
        "# As 5 questões:"
      ]
    },
    {
      "cell_type": "markdown",
      "id": "a35eeb9f-df70-4ab1-a243-2d2025888eb0",
      "metadata": {
        "id": "a35eeb9f-df70-4ab1-a243-2d2025888eb0"
      },
      "source": [
        "# 1 - Como funciona o modelo LinearRegression do scikit-learn?\n",
        "O modelo LinearRegression do scikit-learn é utilizado para resolver problemas de regressão linear.\n",
        "Ele é baseado na equação da reta (y = mx + b), onde m é o coeficiente angular, b é o coeficiente linear e y é a variável dependente. Ela é usada para prever um resultado contínuo com base em uma ou mais variáveis independentes. O LinearRegression do scikit-learn ajusta uma reta aos dados fornecidos, minimizando a soma dos quadrados dos resíduos entre os valores previstos e os valores reais. O processo de ajuste é feito usando a técnica de mínimos quadrados ordinários (OLS).\n",
        "A implementação de um modelo de regressão linear é o modelo scikit-learn do LinearRegression.  Ele ajusta uma linha de regressão aos dados de treinamento para prever o valor de saída com base em uma ou mais variáveis ​​de entrada. A linha reta é ajustada para reduzir a soma dos erros quadráticos entre os valores previstos e reais. O código a seguir demonstra como criar e treinar um modelo LinearRegression no Scikit-Learn:"
      ]
    },
    {
      "cell_type": "code",
      "execution_count": 80,
      "id": "fe55883a-6887-43dd-9498-5333a51799e2",
      "metadata": {
        "collapsed": true,
        "jupyter": {
          "outputs_hidden": true
        },
        "trusted": true,
        "id": "fe55883a-6887-43dd-9498-5333a51799e2",
        "colab": {
          "base_uri": "https://localhost:8080/"
        },
        "outputId": "6ba31d11-ce2b-4632-8cb5-2831524963a4"
      },
      "outputs": [
        {
          "output_type": "stream",
          "name": "stdout",
          "text": [
            "Erro médio quadrático: 0.19546766227160994\n"
          ]
        }
      ],
      "source": [
        "# classe LinearRegression da biblioteca Scikit-Learn para criar um modelo de regressão linear.\n",
        "from sklearn.linear_model import LinearRegression\n",
        "\n",
        "# função train_test_split da biblioteca Scikit-Learn para dividir os dados em conjuntos de treinamento e teste.\n",
        "from sklearn.model_selection import train_test_split\n",
        "\n",
        "#  métrica mean_squared_error da biblioteca Scikit-Learn para avaliar o desempenho do modelo.\n",
        "from sklearn.metrics import mean_squared_error\n",
        "\n",
        "# X_train e y_train contêm os dados de treinamento, e X_test e y_test contêm os dados de teste.\n",
        "# O argumento test_size=0.2 especifica que 20% dos dados serão usados para teste.\n",
        "# O argumento random_state=42 define uma semente para a aleatoriedade, garantindo resultados reproduzíveis.\n",
        "X_train, X_test, y_train, y_test = train_test_split(X, y, test_size=0.2, random_state=42)\n",
        "\n",
        "#  objeto do modelo de regressão linear.\n",
        "model = LinearRegression()\n",
        "\n",
        "#  modelo com os dados de treinamento.\n",
        "model.fit(X_train, y_train)\n",
        "\n",
        "#  previsões com os dados de teste.\n",
        "y_pred = model.predict(X_test)\n",
        "\n",
        "#  erro médio quadrático (MSE) para avaliar o desempenho do modelo.\n",
        "mse = mean_squared_error(y_test, y_pred)\n",
        "\n",
        "# Exibe o valor do MSE como medida de erro.\n",
        "print(\"Erro médio quadrático:\", mse)\n"
      ]
    },
    {
      "cell_type": "markdown",
      "id": "fe912a27-ad04-4135-a3be-72ee9930ac48",
      "metadata": {
        "id": "fe912a27-ad04-4135-a3be-72ee9930ac48"
      },
      "source": [
        "Nesse caso o X_train e y_train são os dados de treino, X_test são os dados de teste e y_pred são as previsões feitas pelo modelo."
      ]
    },
    {
      "cell_type": "markdown",
      "id": "b9670d85-ef29-4dfd-b4b5-e76d279c1f1a",
      "metadata": {
        "id": "b9670d85-ef29-4dfd-b4b5-e76d279c1f1a"
      },
      "source": [
        "## 2-  Como o modelo de k-vizinhos mais próximos (k-Nearest Neighbors) poderia ser aplicado ao invés do linear?\n",
        "O modelo k-Nearest Neighbors, modelo de vizinhos (k-NN) pode ser usado como uma técnica de aprendizado assistido por supervisão no lugar do modelo linear. K é exemplos que estão mais próximos do exemplo de teste em termos de valores de entrada é como ele funciona e ele evita o valor de saída com base na média ou moda dos exemplos que estão mais próximos dele. O código a seguir ilustra como construir e treinar um modelo KNeighborsRegressor no Scikit-Learn:"
      ]
    },
    {
      "cell_type": "code",
      "execution_count": 84,
      "id": "e6474c33-aea6-4d73-adc5-1710b16139cf",
      "metadata": {
        "collapsed": true,
        "jupyter": {
          "outputs_hidden": true
        },
        "trusted": true,
        "id": "e6474c33-aea6-4d73-adc5-1710b16139cf"
      },
      "outputs": [],
      "source": [
        "from sklearn.neighbors import KNeighborsRegressor\n",
        "# modelo KNeighborsRegressor com k=5, que significa que ele considerará os 5 vizinhos mais próximos para fazer previsões.\n",
        "model = KNeighborsRegressor(n_neighbors=5)\n",
        "\n",
        "#modelo com os dados de treinamento.\n",
        "model.fit(X_train, y_train)\n",
        "\n",
        "# previsões com o modelo usando os dados de teste.\n",
        "y_pred = model.predict(X_test)\n"
      ]
    },
    {
      "cell_type": "markdown",
      "id": "2687f4c6-7a62-4b50-a158-13e1be5dad93",
      "metadata": {
        "id": "2687f4c6-7a62-4b50-a158-13e1be5dad93"
      },
      "source": [
        "Nesse caso o n_neighbors=5 define que o modelo deve considerar os 5 vizinhos mais próximos para fazer a previsão."
      ]
    },
    {
      "cell_type": "markdown",
      "id": "37cad9be-1b4d-4937-b281-a593cd6443e5",
      "metadata": {
        "id": "37cad9be-1b4d-4937-b281-a593cd6443e5"
      },
      "source": [
        "# 3- Como treinar e julgar o modelo que melhor se ajusta aos dados de treinamento linear? Após, simule uma previsão (inferência) da rede treinada para um novo caso hipotético.\n",
        "\n",
        "Para treinar e julgar o modelo que melhor se ajusta aos dados de treinamento linear, é necessário separar os dados em um conjunto de treinamento e um conjunto de teste. O conjunto de treinamento é usado para ajustar o modelo e o conjunto de teste é usado para avaliar a precisão do modelo em dados não vistos anteriormente. A métrica mais comum usada para avaliar a precisão de um modelo de regressão é o erro quadrático médio (MSE). O MSE é a média dos quadrados dos resíduos entre os valores previstos e os valores reais. O objetivo é minimizar o MSE para que o modelo seja o mais preciso possível.\n",
        "\n",
        "Um exemplo de como treinar e avaliar o modelo pode ser:"
      ]
    },
    {
      "cell_type": "code",
      "execution_count": 86,
      "id": "324ff612-e5a3-43d0-b505-493fc314542f",
      "metadata": {
        "collapsed": true,
        "jupyter": {
          "outputs_hidden": true
        },
        "trusted": true,
        "id": "324ff612-e5a3-43d0-b505-493fc314542f",
        "colab": {
          "base_uri": "https://localhost:8080/"
        },
        "outputId": "aeb88b22-9db4-44c8-81d9-952e623d7c4d"
      },
      "outputs": [
        {
          "output_type": "stream",
          "name": "stdout",
          "text": [
            "MSE: 0.19546766227160994\n",
            "MSE: 0.20, R2: 0.32\n"
          ]
        }
      ],
      "source": [
        "from sklearn.model_selection import train_test_split\n",
        "from sklearn.linear_model import LinearRegression\n",
        "from sklearn.metrics import mean_squared_error, r2_score\n",
        "\n",
        "# separando os dados em treinamento e teste\n",
        "X_train, X_test, y_train, y_test = train_test_split(X, y, test_size=0.2, random_state=42)\n",
        "\n",
        "# criando o modelo e ajustando aos dados de treinamento\n",
        "model = LinearRegression()\n",
        "\n",
        "#o modelo nos dados de treinamento\n",
        "model.fit(X_train, y_train)\n",
        "\n",
        "\n",
        "# Fazendo a previsão com os dados de teste\n",
        "y_pred = model.predict(X_test)\n",
        "\n",
        "# avaliando a precisão do modelo em dados de teste\n",
        "mse = mean_squared_error(y_test, y_pred)\n",
        "r2 = r2_score(y_test, y_pred)\n",
        "print(\"MSE:\", mse)\n",
        "\n",
        "print(f\"MSE: {mse:.2f}, R2: {r2:.2f}\")"
      ]
    },
    {
      "cell_type": "markdown",
      "id": "2d6acb4b-688a-4280-84a6-44db5d3c10a1",
      "metadata": {
        "id": "2d6acb4b-688a-4280-84a6-44db5d3c10a1"
      },
      "source": [
        "Onde mean_squared_error e r2_score são métricas para avaliar a qualidade do modelo, e y_test são os valores reais correspondentes aos dados de teste.\n",
        "\n",
        "Para fazer a previsão para um novo caso hipotético, podemos fazer:"
      ]
    },
    {
      "cell_type": "code",
      "execution_count": 87,
      "id": "b4d40c96-baa2-40a0-be69-af8927450bc7",
      "metadata": {
        "collapsed": true,
        "jupyter": {
          "outputs_hidden": true
        },
        "trusted": true,
        "id": "b4d40c96-baa2-40a0-be69-af8927450bc7",
        "colab": {
          "base_uri": "https://localhost:8080/"
        },
        "outputId": "3d9bd22f-35a4-4b0a-c3fd-2826c1a41bb0"
      },
      "outputs": [
        {
          "output_type": "stream",
          "name": "stdout",
          "text": [
            "Previsão para o novo caso: [3.53289047]\n"
          ]
        }
      ],
      "source": [
        "# novo caso\n",
        "new_case = [[2.5]]  # 2.5 é o valor da variável de entrada para o novo caso.\n",
        "\n",
        "#previsão para o novo caso usando o modelo previamente treinado.\n",
        "new_pred = model.predict(new_case)\n",
        "\n",
        "# previsão feita pelo modelo para o novo caso.\n",
        "print(\"Previsão para o novo caso:\", new_pred[0])\n",
        "\n"
      ]
    },
    {
      "cell_type": "markdown",
      "id": "c9a6ee0d-6dbe-4cb6-a7fc-1d8da6da4dd4",
      "metadata": {
        "id": "c9a6ee0d-6dbe-4cb6-a7fc-1d8da6da4dd4"
      },
      "source": [
        "# 4- O que significa regularizar dados? Em sua explicação, contextualize os problemas que a regularização pode ajudar a resolver a fim de melhorar o treinamento.\n",
        "Regularizar dados significa aplicar uma transformação nos dados para reduzir a influência de valores extremos (outliers) e evitar que o modelo seja superajustado (overfitting). A regularização pode ajudar a resolver problemas de multicolinearidade (quando duas ou mais variáveis estão altamente correlacionadas) e ajudar a evitar que o modelo atribua pesos muito altos a certas variáveis, que podem não ser relevantes para a previsão. Existem várias técnicas de regularização, como L1 (também conhecida como regulação Lasso) e L2 (também conhecida como regulação Ridge).\n",
        "\n",
        "A regularização L1 adiciona um termo de penalidade igual à soma dos valores absolutos dos coeficientes ao custo da função. Isso leva a soluções esparsas, onde alguns coeficientes são exatamente zero. Isso pode ser útil para selecionar as variáveis mais importantes em um modelo.\n",
        "\n",
        "A regularização L2 adiciona um termo de penalidade igual à soma dos quadrados dos coeficientes ao custo da função. Isso leva a soluções em que todos os coeficientes são reduzidos, mas nenhum é exatamente zero. Isso pode ajudar a evitar que o modelo seja superajustado, reduzindo a magnitude dos coeficientes.\n",
        "\n",
        "A escolha entre L1 e L2 depende do problema em questão e do tipo de regularização desejada. Por exemplo, se houver muitas variáveis e algumas delas forem irrelevantes, a regularização L1 pode ser mais útil para selecionar as variáveis mais importantes. Se houver um problema de multicolinearidade, a regularização L2 pode ser mais útil para evitar que o modelo atribua pesos muito altos a algumas variáveis.\n"
      ]
    },
    {
      "cell_type": "code",
      "execution_count": 89,
      "id": "6f9bfae8-1928-4587-b027-22773ab1c3bb",
      "metadata": {
        "collapsed": true,
        "jupyter": {
          "outputs_hidden": true
        },
        "trusted": true,
        "id": "6f9bfae8-1928-4587-b027-22773ab1c3bb"
      },
      "outputs": [],
      "source": [
        "from sklearn.preprocessing import StandardScaler\n",
        "# padronizar (escalar) os dados.\n",
        "\n",
        "# Cria um objeto do scaler (padronizador) que será usado para escalonar os dados.\n",
        "scaler = StandardScaler()\n",
        "\n",
        "# Aplica o scaler nos dados de treinamento, calculando a média e o desvio padrão dos dados de treinamento.\n",
        "X_train_scaled = scaler.fit_transform(X_train)\n",
        "\n",
        "# Aplica o mesmo scaler nos dados de teste, usando a média e o desvio padrão calculados dos dados de treinamento.\n",
        "X_test_scaled = scaler.transform(X_test)\n",
        "\n",
        "# objeto do modelo de regressão linear que será treinado com os dados escalados.\n",
        "model = LinearRegression()\n",
        "\n",
        "# Treina o modelo com os dados de treinamento escalados.\n",
        "model.fit(X_train_scaled, y_train)\n",
        "\n",
        "# Faz previsões com o modelo usando os dados de teste escalados.\n",
        "y_pred = model.predict(X_test_scaled)\n",
        "\n"
      ]
    },
    {
      "cell_type": "markdown",
      "id": "627942b3-f30d-4a2b-9d1e-32fcbc586abc",
      "metadata": {
        "id": "627942b3-f30d-4a2b-9d1e-32fcbc586abc"
      },
      "source": [
        "# 5- Do que se trata a técnica de validação cruzada?\n",
        "A validação cruzada é uma técnica crucial na avaliação de modelos de aprendizado de máquina, visando medir sua capacidade de generalização para dados não vistos anteriormente. Para realizar essa avaliação, os dados disponíveis são divididos em partes, geralmente chamadas de \"dobras\", e o modelo é treinado e testado repetidamente em diferentes combinações dessas dobras.\n",
        "\n",
        "Um método comum de validação cruzada é a abordagem K-fold, em que os dados são divididos em K partes aproximadamente iguais. O modelo é treinado K vezes, cada vez usando uma das dobras como conjunto de teste e as demais K-1 dobras como conjunto de treinamento. Após cada ciclo de treinamento e teste, uma métrica de avaliação, como o Erro Quadrático Médio (MSE), é calculada para avaliar o desempenho do modelo naquela rodada. Ao final, as métricas de todas as rodadas são geralmente combinadas, por exemplo, calculando a média, para obter uma medida geral do desempenho do modelo.\n",
        "\n",
        "A validação cruzada tem várias vantagens importantes. Ela ajuda a evitar o viés na avaliação do modelo, pois todos os dados são usados tanto para treinamento quanto para validação em diferentes momentos. Isso é especialmente útil em conjuntos de dados pequenos, onde a divisão entre treinamento e teste pode ser crítica. Além disso, a validação cruzada permite detectar problemas de overfitting, em que o modelo se ajusta muito aos dados de treinamento e não generaliza bem para novos dados. Se o desempenho do modelo variar significativamente entre as dobras de teste, isso pode ser um sinal de overfitting. Em resumo, a validação cruzada é uma técnica essencial para avaliar modelos de aprendizado de máquina, fornecendo uma estimativa mais realista de como o modelo se sairá em dados não vistos anteriormente e auxiliando na detecção de problemas como overfitting.\n",
        "\n",
        "A validação cruzada pode ser facilmente implementada em scikit-learn, como no exemplo a seguir:\n"
      ]
    },
    {
      "cell_type": "code",
      "execution_count": 91,
      "id": "1f48644a-f94c-4a50-b14d-412ebc668fef",
      "metadata": {
        "collapsed": true,
        "jupyter": {
          "outputs_hidden": true
        },
        "trusted": true,
        "id": "1f48644a-f94c-4a50-b14d-412ebc668fef",
        "colab": {
          "base_uri": "https://localhost:8080/"
        },
        "outputId": "d1fe8249-564c-4a8f-ae8a-9ce9ac1fd24a"
      },
      "outputs": [
        {
          "output_type": "stream",
          "name": "stdout",
          "text": [
            "MSE médio: 0.19137472175462716\n"
          ]
        }
      ],
      "source": [
        "from sklearn.model_selection import KFold\n",
        "from sklearn.linear_model import LinearRegression\n",
        "from sklearn.metrics import mean_squared_error\n",
        "# Divide os dados em k partes iguais (neste caso, 5 partes) para validação cruzada.\n",
        "kf = KFold(n_splits=5, shuffle=True, random_state=42)\n",
        "\n",
        "# Cria um objeto do modelo de regressão linear\n",
        "model = LinearRegression()\n",
        "\n",
        "# Cria uma lista para armazenar os valores do erro quadrático médio (MSE) em cada fold.\n",
        "mse_list = []\n",
        "\n",
        "# Loop sobre cada fold criado pelo KFold.\n",
        "for train_index, test_index in kf.split(X):\n",
        "    # Divide os dados em conjunto de treinamento e conjunto de teste com base nos índices fornecidos pelo KFold.\n",
        "    X_train, X_test = X[train_index], X[test_index]\n",
        "    y_train, y_test = y[train_index], y[test_index]\n",
        "\n",
        "    # Treina o modelo com o conjunto de treinamento atual.\n",
        "    model.fit(X_train, y_train)\n",
        "\n",
        "    # Faz previsões com o modelo usando o conjunto de teste atual.\n",
        "    y_pred = model.predict(X_test)\n",
        "\n",
        "    # Calcula o erro quadrático médio (MSE) para a avaliação deste fold.\n",
        "    mse = mean_squared_error(y_test, y_pred)\n",
        "\n",
        "    # Adiciona o MSE calculado à lista de MSEs.\n",
        "    mse_list.append(mse)\n",
        "\n",
        "# Calcula a média dos MSEs obtidos em todos os folds.\n",
        "print(\"MSE médio:\", np.mean(mse_list))\n",
        "\n"
      ]
    },
    {
      "cell_type": "markdown",
      "id": "258796e7-799c-4d37-9251-cee616ffdb20",
      "metadata": {
        "id": "258796e7-799c-4d37-9251-cee616ffdb20"
      },
      "source": [
        "Outro exemplo, carregamos o conjunto de dados Iris, criamos uma instância do modelo de regressão logística e usamos a função cross_val_score para realizar a validação cruzada com 5 folds. Em seguida, exibimos a precisão média e o desvio padrão dos resultados. A validação cruzada nos permite avaliar o desempenho do modelo de forma mais precisa, considerando diferentes combinações de dados de treinamento e teste."
      ]
    },
    {
      "cell_type": "code",
      "execution_count": 93,
      "id": "029ea674-15bf-49a5-84e2-aee8a9c99c42",
      "metadata": {
        "collapsed": true,
        "jupyter": {
          "outputs_hidden": true
        },
        "trusted": true,
        "id": "029ea674-15bf-49a5-84e2-aee8a9c99c42",
        "colab": {
          "base_uri": "https://localhost:8080/"
        },
        "outputId": "32e7a678-baa9-48fd-dfa5-86d9647856ba"
      },
      "outputs": [
        {
          "output_type": "stream",
          "name": "stdout",
          "text": [
            "Precisão média: 0.97\n",
            "Desvio padrão: 0.05\n"
          ]
        },
        {
          "output_type": "stream",
          "name": "stderr",
          "text": [
            "/usr/local/lib/python3.10/dist-packages/sklearn/linear_model/_logistic.py:458: ConvergenceWarning: lbfgs failed to converge (status=1):\n",
            "STOP: TOTAL NO. of ITERATIONS REACHED LIMIT.\n",
            "\n",
            "Increase the number of iterations (max_iter) or scale the data as shown in:\n",
            "    https://scikit-learn.org/stable/modules/preprocessing.html\n",
            "Please also refer to the documentation for alternative solver options:\n",
            "    https://scikit-learn.org/stable/modules/linear_model.html#logistic-regression\n",
            "  n_iter_i = _check_optimize_result(\n"
          ]
        }
      ],
      "source": [
        "from sklearn.datasets import load_iris\n",
        "from sklearn.linear_model import LogisticRegression\n",
        "from sklearn.model_selection import cross_val_score\n",
        "# Importa a função load_iris da biblioteca Scikit-Learn para carregar o conjunto de dados Iris,\n",
        "# a classe LogisticRegression para criar um modelo de regressão logística\n",
        "# e a função cross_val_score para realizar a validação cruzada.\n",
        "\n",
        "# Carrega o conjunto de dados Iris\n",
        "iris = load_iris()\n",
        "\n",
        "# Cria uma instância do modelo de regressão logística\n",
        "modelo = LogisticRegression()\n",
        "\n",
        "# Realiza a validação cruzada com 5 folds\n",
        "scores = cross_val_score(modelo, iris.data, iris.target, cv=5)\n",
        "\n",
        "# a média dos resultados da validação cruzada.\n",
        "precisao_media = scores.mean()\n",
        "\n",
        "#  o desvio padrão multiplicado por 2 dos resultados da validação cruzada.\n",
        "desvio_padrao = scores.std() * 2\n",
        "\n",
        "# Exibe a média e o desvio padrão como medidas de desempenho do modelo.\n",
        "print(f\"Precisão média: {precisao_media:.2f}\")\n",
        "print(f\"Desvio padrão: {desvio_padrao:.2f}\")\n",
        "\n"
      ]
    },
    {
      "cell_type": "markdown",
      "id": "b0fccb38-90f2-4306-a773-efe62ae4fee6",
      "metadata": {
        "id": "b0fccb38-90f2-4306-a773-efe62ae4fee6"
      },
      "source": [
        "Foi visto como funciona o modelo LinearRegression do scikit-learn, como o modelo de k-vizinhos mais próximos (k-Nearest Neighbors) poderia ser aplicado ao invés do linear, como treinar e julgar o modelo que melhor se ajusta aos dados de treinamento linear e como regularizar os dados e utilizar a técnica de validação cruzada para melhorar o desempenho do modelo."
      ]
    }
  ],
  "metadata": {
    "kernelspec": {
      "display_name": "Python (Pyodide)",
      "language": "python",
      "name": "python"
    },
    "language_info": {
      "codemirror_mode": {
        "name": "python",
        "version": 3
      },
      "file_extension": ".py",
      "mimetype": "text/x-python",
      "name": "python",
      "nbconvert_exporter": "python",
      "pygments_lexer": "ipython3",
      "version": "3.8"
    },
    "colab": {
      "provenance": []
    }
  },
  "nbformat": 4,
  "nbformat_minor": 5
}