{
  "metadata": {
    "language_info": {
      "codemirror_mode": {
        "name": "python",
        "version": 3
      },
      "file_extension": ".py",
      "mimetype": "text/x-python",
      "name": "python",
      "nbconvert_exporter": "python",
      "pygments_lexer": "ipython3",
      "version": "3.8"
    },
    "kernelspec": {
      "name": "python",
      "display_name": "Python (Pyodide)",
      "language": "python"
    },
    "colab": {
      "provenance": []
    }
  },
  "nbformat_minor": 0,
  "nbformat": 4,
  "cells": [
    {
      "cell_type": "markdown",
      "source": [
        "<strong>O que é tipagem em Python?</strong>\n",
        "\n",
        "Tipagem em Python se refere à forma como os tipos de dados são tratados na linguagem. Em outras palavras, é a atribuição de um tipo a uma variável. Python é uma linguagem dinamicamente tipada, o que significa que o tipo de uma variável é determinado em tempo de execução, em vez de ser definido em tempo de compilação. Isso difere de linguagens como C ou Java, que são estaticamente tipadas. Existem dois principais sistemas de tipagem: tipagem estática e tipagem dinâmica.\n",
        "\n",
        "A tipagem dinâmica se refere à capacidade da linguagem de permitir que as variáveis possam ter seu tipo de dado alterado em tempo de execução. Já a tipagem estática, o tipo de uma variável é determinado em tempo de compilação e não pode ser alterado em tempo de execuçãoção.\n",
        "\n",
        "Em Python, não é necessário declarar explicitamente um tipo específico para as variáveis antes de usá-las. O interpretador Python automaticamente infere o tipo durante a execução do código. Isso significa que, ao atribuir um valor a uma variável, como no exemplo abaixo, o interpretador reconhece que \"x\" é uma variável do tipo inteiro:\n"
      ],
      "metadata": {
        "tags": [],
        "id": "YQ01qD49RNjR"
      }
    },
    {
      "cell_type": "code",
      "source": [
        "x = 10"
      ],
      "metadata": {
        "trusted": true,
        "id": "Pw63YNHxRNjU"
      },
      "execution_count": null,
      "outputs": []
    },
    {
      "cell_type": "markdown",
      "source": [
        "Aqui notamos que o Python entende que \"x\" é uma variável inteira (int). No entanto, se atribuirmos um valor de ponto flutuante à variável \"x\", o Python entenderá que \"x\" é agora uma variável de ponto flutuante (float):"
      ],
      "metadata": {
        "id": "H2Lnu4WMRNjV"
      }
    },
    {
      "cell_type": "code",
      "source": [
        "x = 10.0"
      ],
      "metadata": {
        "trusted": true,
        "id": "KdzkplYLRNjW"
      },
      "execution_count": 1,
      "outputs": []
    },
    {
      "cell_type": "markdown",
      "source": [
        "A flexibilidade da tipagem dinâmica do Python pode ser útil em algumas situações, mas também pode ser um problema em outras. Por exemplo, pode ser difícil depurar erros em tempo de execução se as variáveis tiverem tipos imprevisíveis. No entanto, existem técnicas para lidar com esses problemas, como o uso de testes unitários e a adoção de boas práticas de programação."
      ],
      "metadata": {
        "id": "zwP7iGbvRNjW"
      }
    },
    {
      "cell_type": "markdown",
      "source": [
        "<strong>Tipos de dados:</strong>\n",
        "\n",
        "Existem vários tipos de dados em Python, sendo eles:\n",
        "\n",
        "<li>Inteiros (int)\n",
        "<li>Ponto flutuante (float)\n",
        "<li>Dicionários (dict)\n",
        "<li>Conjuntos (set)\n",
        "<li>Booleanos (bool)\n",
        "<li>Cadeias de caracteres (string)\n",
        "<li>Listas (list)\n",
        "<li>Tuplas (tuple)\n",
        "<li>Range: sequência\n",
        "<li>None: valor nulo\n",
        "    \n",
        "Cada tipo de dados tem suas próprias propriedades e métodos. A seguir, veremos alguns exemplos."
      ],
      "metadata": {
        "id": "nRM89xy0RNjX"
      }
    },
    {
      "cell_type": "markdown",
      "source": [
        "# Nova seção"
      ],
      "metadata": {
        "id": "ZzEJKcApWo5i"
      }
    },
    {
      "cell_type": "code",
      "source": [
        "x = 10\n",
        "print(type(x))  # saída: <class 'int'>\n",
        "\n",
        "y = 8.00\n",
        "print(type(y))  # saída: <class 'float'>\n",
        "\n",
        "z = False\n",
        "print(type(z))  # saída: <class 'bool'>\n",
        "\n",
        "w = \"Olá, mundo!\"\n",
        "print(type(w))  # saída: <class 'str'>\n",
        "\n",
        "l=range(50,10)\n",
        "print(type(l))   #('range')\n",
        "\n",
        "v = None\n",
        "print(type(v))  # saída: <class 'NoneType'>"
      ],
      "metadata": {
        "tags": [],
        "collapsed": true,
        "jupyter": {
          "outputs_hidden": true
        },
        "trusted": true,
        "colab": {
          "base_uri": "https://localhost:8080/"
        },
        "id": "Wfz78VGqRNjX",
        "outputId": "2724de01-04d5-4253-db0e-5406b7233d8b"
      },
      "execution_count": null,
      "outputs": [
        {
          "output_type": "stream",
          "name": "stdout",
          "text": [
            "<class 'int'>\n",
            "<class 'float'>\n",
            "<class 'bool'>\n",
            "<class 'str'>\n",
            "<class 'range'>\n",
            "<class 'NoneType'>\n"
          ]
        }
      ]
    },
    {
      "cell_type": "markdown",
      "source": [
        "<strong>Inteiros (int)</strong>\n",
        "\n",
        "Inteiros (int) são números inteiros sem parte fracionária, como 1, 2, 3, -1, -2, -3, etc. Em Python, inteiros são representados como objetos int. Aqui estão alguns exemplos de inteiros em Python:"
      ],
      "metadata": {
        "id": "ijVtVxhKRNjY"
      }
    },
    {
      "cell_type": "code",
      "source": [
        "x = 30\n",
        "y = 20\n",
        "soma = x + y\n",
        "print(soma)"
      ],
      "metadata": {
        "trusted": true,
        "colab": {
          "base_uri": "https://localhost:8080/"
        },
        "id": "Nz9WxT9IRNjZ",
        "outputId": "de9df67f-dd5f-4145-e2f0-fd7d8475fb0d"
      },
      "execution_count": null,
      "outputs": [
        {
          "output_type": "stream",
          "name": "stdout",
          "text": [
            "50\n"
          ]
        }
      ]
    },
    {
      "cell_type": "markdown",
      "source": [
        "Neste exemplo, criamos duas variáveis \"x\" e \"y\" e atribuímos valores inteiros a elas. Em seguida, criamos uma terceira variável \"soma\" e atribuímos a ela a soma dos valores de \"x\" e \"y\". Finalmente, imprimimos o valor da variável \"soma\"."
      ],
      "metadata": {
        "id": "vgnP1haQRNjZ"
      }
    },
    {
      "cell_type": "markdown",
      "source": [
        "<strong>Ponto flutuante (float)</strong>\n",
        "\n",
        "Os números de ponto flutuante (float) são números com parte fracionária, como 3.14, -0.01, 2.0, etc. Em Python, os números de ponto flutuante são representados como objetos float. Aqui estão alguns exemplos de números de ponto flutuante em Python:"
      ],
      "metadata": {
        "id": "qtyCe-SCRNja"
      }
    },
    {
      "cell_type": "code",
      "source": [
        "x = 3.14\n",
        "y = 2.71828\n",
        "produto = x * y\n",
        "print(produto)"
      ],
      "metadata": {
        "trusted": true,
        "colab": {
          "base_uri": "https://localhost:8080/"
        },
        "id": "Uuh2QJ6URNja",
        "outputId": "e3505674-17e2-444d-81ec-18a7abb2e7f5"
      },
      "execution_count": null,
      "outputs": [
        {
          "output_type": "stream",
          "name": "stdout",
          "text": [
            "8.5353992\n"
          ]
        }
      ]
    },
    {
      "cell_type": "markdown",
      "source": [
        "Neste exemplo, criamos duas variáveis \"x\" e \"y\" e atribuímos valores de ponto flutuante a elas. Em seguida, criamos uma terceira variável \"produto\" e atribuímos a ela o produto dos valores de \"x\" e \"y\". Finalmente, imprimimos o valor da variável \"produto\"."
      ],
      "metadata": {
        "id": "p1_SI9czRNja"
      }
    },
    {
      "cell_type": "markdown",
      "source": [
        "<strong>Booleanos (bool)</strong>\n",
        "\n",
        "Os booleanos (bool) representam valores lógicos verdadeiro (True) e falso (False). Em Python, os booleanos são representados como objetos bool. Aqui estão alguns exemplos de booleanos em Python:"
      ],
      "metadata": {
        "id": "WYREaGE7RNjb"
      }
    },
    {
      "cell_type": "code",
      "source": [
        "a = True\n",
        "b = False\n",
        "resultado = a and b\n",
        "print(resultado)"
      ],
      "metadata": {
        "trusted": true,
        "id": "OHOAZeUnRNjb",
        "outputId": "c57224af-044f-471d-f5bd-3380324eb397"
      },
      "execution_count": null,
      "outputs": [
        {
          "name": "stdout",
          "text": "False\n",
          "output_type": "stream"
        }
      ]
    },
    {
      "cell_type": "markdown",
      "source": [
        "Neste exemplo, criamos duas variáveis \"a\" e \"b\" e atribuímos a elas valores booleanos. Em seguida, criamos uma terceira variável \"resultado\" e atribuímos a ela o resultado da operação \"a e b\". Finalmente, imprimimos o valor da variável \"resultado\"."
      ],
      "metadata": {
        "id": "tTL9SZN8RNjb"
      }
    },
    {
      "cell_type": "markdown",
      "source": [
        "<strong>Cadeias de caracteres (string)</strong>\n",
        "\n",
        "As cadeias de caracteres (string) são sequências de caracteres, como \"hello world\", \"python\", \"123\", etc. Em Python, as cadeias de caracteres são representadas como objetos str. Aqui estão alguns exemplos de cadeias de caracteres em Python:"
      ],
      "metadata": {
        "id": "VW_KX-n-RNjb"
      }
    },
    {
      "cell_type": "code",
      "source": [
        "nome = \"Ana\"\n",
        "saudacao = \"Olá, \" + nome + \"!\"\n",
        "print(saudacao)"
      ],
      "metadata": {
        "trusted": true,
        "id": "dVon-MBJRNjc"
      },
      "execution_count": null,
      "outputs": []
    },
    {
      "cell_type": "markdown",
      "source": [
        "Neste exemplo, criamos uma variável \"nome\" e atribuímos a ela uma string de caracteres. Em seguida, criamos uma segunda variável \"saudacao\" e atribuímos a ela uma string de caracteres que inclui a variável \"nome\". Finalmente, imprimimos o valor da variável \"saudacao\"."
      ],
      "metadata": {
        "id": "ih6bTSpzRNjc"
      }
    },
    {
      "cell_type": "markdown",
      "source": [
        "<strong>Listas (list)</strong>\n",
        "\n",
        "As listas (list) são sequências mutáveis de elementos, que podem ser de diferentes tipos de dados. Em Python, as listas são representadas como objetos list. Aqui estão alguns exemplos de listas em Python:"
      ],
      "metadata": {
        "id": "7sN1pHQ5RNjc"
      }
    },
    {
      "cell_type": "code",
      "source": [
        "frutas = [\"maçã\", \"mamão\", \"laranja\"]\n",
        "print(frutas[1])"
      ],
      "metadata": {
        "trusted": true,
        "id": "WIeR3Y_hRNjd"
      },
      "execution_count": null,
      "outputs": []
    },
    {
      "cell_type": "markdown",
      "source": [
        "Neste exemplo, criamos uma variável \"frutas\" e atribuímos a ela uma lista de strings de frutas. Em seguida, imprimimos o valor do segundo elemento da lista (o índice começa em 0), que é \"banana\"."
      ],
      "metadata": {
        "id": "bSs082L4RNjd"
      }
    },
    {
      "cell_type": "markdown",
      "source": [
        "<strong>Tuplas (tuple)</strong>\n",
        "\n",
        "As tuplas (tuple) são sequências imutáveis de elementos, que podem ser de diferentes tipos de dados. Em Python, as tuplas são representadas como objetos tuple. Aqui estão alguns exemplos de tuplas em Python:"
      ],
      "metadata": {
        "id": "grhVT5V-RNjd"
      }
    },
    {
      "cell_type": "code",
      "source": [
        "cores = (\"vermelho\", \"verde\", \"azul\")\n",
        "print(cores[2])"
      ],
      "metadata": {
        "trusted": true,
        "id": "FrPrKsBPRNjd",
        "outputId": "9178e1a7-b049-48a1-8a36-9b4bc4708353"
      },
      "execution_count": null,
      "outputs": [
        {
          "name": "stdout",
          "text": "azul\n",
          "output_type": "stream"
        }
      ]
    },
    {
      "cell_type": "markdown",
      "source": [
        "Neste exemplo, criamos uma variável \"cores\" e atribuímos a ela uma tupla de strings de cores. Em seguida, imprimimos o valor do terceiro elemento da tupla (o índice começa em 0), que é \"azul\"."
      ],
      "metadata": {
        "id": "2d0dmWp-RNje"
      }
    },
    {
      "cell_type": "markdown",
      "source": [
        "<strong>Dicionários (dict)</strong>\n",
        "\n",
        "Os dicionários (dict) são estruturas de dados que mapeiam chaves a valores. Cada chave deve ser única. Em Python, os dicionários são representados como objetos dict. Aqui estão alguns exemplos de dicionários em Python:"
      ],
      "metadata": {
        "id": "yaLEbUcaRNje"
      }
    },
    {
      "cell_type": "code",
      "source": [
        "pessoa = {\"nome\": \"Alice\", \"idade\": 30, \"cidade\": \"São Paulo\"}\n",
        "print(pessoa[\"idade\"])"
      ],
      "metadata": {
        "trusted": true,
        "id": "MxQSg0gYRNje"
      },
      "execution_count": null,
      "outputs": []
    },
    {
      "cell_type": "markdown",
      "source": [
        "Neste exemplo, criamos uma variável \"pessoa\" e atribuímos a ela um dicionário com três pares de chave/valor. Em seguida, imprimimos o valor da chave \"idade\" usando a sintaxe de índice de dicionário."
      ],
      "metadata": {
        "id": "1fBHdoS8RNjf"
      }
    },
    {
      "cell_type": "markdown",
      "source": [
        "<strong>Conjuntos (set)</strong>\n",
        "\n",
        "Os conjuntos (set) são coleções desordenadas de elementos únicos. Em Python, os conjuntos são representados como objetos set. Aqui estão alguns exemplos de conjuntos em Python:"
      ],
      "metadata": {
        "id": "LJleMFGnRNjf"
      }
    },
    {
      "cell_type": "code",
      "source": [
        "numeros = {1, 2, 3, 4, 5}\n",
        "print(len(numeros))"
      ],
      "metadata": {
        "trusted": true,
        "id": "2oobTJ-mRNjf",
        "outputId": "b1fca45f-87bf-44fc-ec94-497aa9810cbe"
      },
      "execution_count": null,
      "outputs": [
        {
          "name": "stdout",
          "text": "5\n",
          "output_type": "stream"
        }
      ]
    },
    {
      "cell_type": "markdown",
      "source": [
        "Range (sequencia) é uma função nativa da linguagem Python que é utilizada para gerar uma sequência numérica dentro de um intervalo determinado."
      ],
      "metadata": {
        "id": "GXw_w52STSoS"
      }
    },
    {
      "cell_type": "code",
      "source": [
        "for i in range(5):\n",
        "    print(i)"
      ],
      "metadata": {
        "colab": {
          "base_uri": "https://localhost:8080/"
        },
        "id": "zIo_steUTrAX",
        "outputId": "e779e208-4b7b-454a-8dca-185754e8914e"
      },
      "execution_count": 8,
      "outputs": [
        {
          "output_type": "stream",
          "name": "stdout",
          "text": [
            "0\n",
            "1\n",
            "2\n",
            "3\n",
            "4\n"
          ]
        }
      ]
    },
    {
      "cell_type": "markdown",
      "source": [
        "Neste exemplo, criamos uma variável \"numeros\" e atribuímos a ela um conjunto de números inteiros. Em seguida, imprimimos o número de elementos do conjunto usando a função \"len\"."
      ],
      "metadata": {
        "id": "4XA1LijgRNjg"
      }
    },
    {
      "cell_type": "markdown",
      "source": [
        "<strong>Conversão de tipos em Python</strong>\n",
        "\n",
        "Às vezes, é necessário converter um tipo de dados em outro. Em Python, é possível fazer isso usando funções de conversão embutidas.\n",
        "\n",
        "<li>int(): converte um valor em um número inteiro (int)\n",
        "<li>float(): converte um valor em um número de ponto flutuante (float)\n",
        "<li>str(): converte um valor em uma cadeia de caracteres (str)\n",
        "<li>list(): converte um valor em uma lista (list)\n",
        "<li>tuple(): converte um valor em uma tupla (tuple)\n",
        "<li>dict(): converte um valor em um dicionário (dict)\n",
        "<li>set(): converte um valor em um conjunto (set)\n",
        "\n",
        "Aqui estão alguns exemplos de conversão de tipos em Python:"
      ],
      "metadata": {
        "id": "h51Rd_UrRNjg"
      }
    },
    {
      "cell_type": "code",
      "source": [
        "a = \"10\"\n",
        "b = int(a)  # b é agora um inteiro com valor 10\n",
        "\n",
        "c = 3.14\n",
        "d = int(c)  # d é agora um inteiro com valor 3\n",
        "\n",
        "e = [1, 2, 3]\n",
        "f = tuple(e)  # f é agora uma tupla"
      ],
      "metadata": {
        "trusted": true,
        "id": "DEFYhyKFRNjg"
      },
      "execution_count": null,
      "outputs": []
    },
    {
      "cell_type": "markdown",
      "source": [
        "<strong>Tipagem dinâmica em Python</strong>\n",
        "\n",
        "Em Python, a tipagem é dinâmica, o que significa que o tipo de uma variável é determinado em tempo de execução, com base no valor que ela armazena. Por exemplo, se você definir uma variável como:"
      ],
      "metadata": {
        "id": "zbUO5Aa6RNjg"
      }
    },
    {
      "cell_type": "code",
      "source": [
        "x = 4"
      ],
      "metadata": {
        "trusted": true,
        "id": "TVmqLpw-RNjh"
      },
      "execution_count": null,
      "outputs": []
    },
    {
      "cell_type": "markdown",
      "source": [
        "Em seguida, 'x' variável a é do tipo inteiro (int). No entanto, se você definir a mesma variável como:"
      ],
      "metadata": {
        "id": "ju2S5XJLRNjh"
      }
    },
    {
      "cell_type": "code",
      "source": [
        "x = \"hello\""
      ],
      "metadata": {
        "trusted": true,
        "id": "xy4g5LSgRNjh"
      },
      "execution_count": null,
      "outputs": []
    },
    {
      "cell_type": "markdown",
      "source": [
        "Então, a variável 'x' é do tipo string (str). Em Python, você não precisa declarar explicitamente o tipo de uma variável antes de usá-la. Em vez disso, o interpretador Python determina o tipo da variável com base no valor que ela contém.\n",
        "\n",
        "Por causa disso, é possível reatribuir uma variável a um valor de um tipo diferente:"
      ],
      "metadata": {
        "id": "FpXxE8HlRNjh"
      }
    },
    {
      "cell_type": "code",
      "source": [
        "x = 5\n",
        "x = \"hello\""
      ],
      "metadata": {
        "trusted": true,
        "id": "gqZfk_9MRNji"
      },
      "execution_count": null,
      "outputs": []
    },
    {
      "cell_type": "markdown",
      "source": [
        "Neste exemplo, a variável 'x' é definida primeiro como um inteiro (int) com valor 5 e, em seguida, como uma string (str) com valor \"hello\". Isso é possível porque a tipagem em Python é dinâmica.\n",
        "\n",
        "<strong>Tipagem forte em Python</strong>\n",
        "\n",
        "Em Python, a tipagem também é forte, o que significa que o interpretador não converterá automaticamente um tipo de dados em outro. Por exemplo, se você tentar somar uma string e um inteiro, receberá um erro:"
      ],
      "metadata": {
        "id": "x61Iu-J_RNjj"
      }
    },
    {
      "cell_type": "code",
      "source": [
        "x = \"hello\"\n",
        "b = 10\n",
        "c = x + b  # Erro!"
      ],
      "metadata": {
        "tags": [],
        "trusted": true,
        "id": "eLjBq0WeRNjk",
        "outputId": "cbc7d6d4-6327-42f9-899c-e82f7737336a",
        "colab": {
          "base_uri": "https://localhost:8080/",
          "height": 210
        }
      },
      "execution_count": 11,
      "outputs": [
        {
          "output_type": "error",
          "ename": "TypeError",
          "evalue": "ignored",
          "traceback": [
            "\u001b[0;31m---------------------------------------------------------------------------\u001b[0m",
            "\u001b[0;31mTypeError\u001b[0m                                 Traceback (most recent call last)",
            "\u001b[0;32m<ipython-input-11-1497007921a9>\u001b[0m in \u001b[0;36m<cell line: 3>\u001b[0;34m()\u001b[0m\n\u001b[1;32m      1\u001b[0m \u001b[0mx\u001b[0m \u001b[0;34m=\u001b[0m \u001b[0;34m\"hello\"\u001b[0m\u001b[0;34m\u001b[0m\u001b[0;34m\u001b[0m\u001b[0m\n\u001b[1;32m      2\u001b[0m \u001b[0mb\u001b[0m \u001b[0;34m=\u001b[0m \u001b[0;36m10\u001b[0m\u001b[0;34m\u001b[0m\u001b[0;34m\u001b[0m\u001b[0m\n\u001b[0;32m----> 3\u001b[0;31m \u001b[0mc\u001b[0m \u001b[0;34m=\u001b[0m \u001b[0mx\u001b[0m \u001b[0;34m+\u001b[0m \u001b[0mb\u001b[0m  \u001b[0;31m# Erro!\u001b[0m\u001b[0;34m\u001b[0m\u001b[0;34m\u001b[0m\u001b[0m\n\u001b[0m",
            "\u001b[0;31mTypeError\u001b[0m: can only concatenate str (not \"int\") to str"
          ]
        }
      ]
    },
    {
      "cell_type": "markdown",
      "source": [
        "Isso ocorre porque Python não pode converter automaticamente uma string em um inteiro para fazer a soma. Em vez disso, é necessário converter manualmente um dos valores para que os tipos sejam compatíveis:"
      ],
      "metadata": {
        "id": "x3FPCyNxRNjk"
      }
    },
    {
      "cell_type": "code",
      "source": [
        "x = \"hello\"\n",
        "b = 5\n",
        "c = x + str(b)  # c é agora \"hello5\""
      ],
      "metadata": {
        "trusted": true,
        "id": "buezKROHRNjl"
      },
      "execution_count": 12,
      "outputs": []
    },
    {
      "cell_type": "markdown",
      "source": [
        "A função 'str()' é usada para converter o inteiro 'b' em uma string para que a soma possa ser realizada."
      ],
      "metadata": {
        "id": "B2TM8sf2RNjl"
      }
    },
    {
      "cell_type": "markdown",
      "source": [
        "<strong>Conclusão</strong>\n",
        "\n",
        "Python utiliza tipagem dinâmica e estática, e é definido automaticamente pelo valor que a variável recebe, e há vários tipos de dados integrados disponíveis para armazenar diferentes tipos de valores. A tipagem dinâmica significa que o tipo de uma variável é determinado em tempo de execução com base no valor que ela contém. A tipagem estática significa que o interpretador não converterá automaticamente um tipo de dados em outro. É importante entender esses conceitos ao trabalhar com Python, pois eles podem afetar o comportamento do seu código."
      ],
      "metadata": {
        "id": "0e3ENkj4RNjl"
      }
    }
  ]
}